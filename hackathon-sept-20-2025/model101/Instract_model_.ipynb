{
  "nbformat": 4,
  "nbformat_minor": 0,
  "metadata": {
    "colab": {
      "provenance": [],
      "gpuType": "T4"
    },
    "kernelspec": {
      "name": "python3",
      "display_name": "Python 3"
    },
    "language_info": {
      "name": "python"
    },
    "accelerator": "GPU",
    "widgets": {
      "application/vnd.jupyter.widget-state+json": {
        "b1781172ae3a4b5491bd436ca0887e13": {
          "model_module": "@jupyter-widgets/controls",
          "model_name": "HBoxModel",
          "model_module_version": "1.5.0",
          "state": {
            "_dom_classes": [],
            "_model_module": "@jupyter-widgets/controls",
            "_model_module_version": "1.5.0",
            "_model_name": "HBoxModel",
            "_view_count": null,
            "_view_module": "@jupyter-widgets/controls",
            "_view_module_version": "1.5.0",
            "_view_name": "HBoxView",
            "box_style": "",
            "children": [
              "IPY_MODEL_82e2776fbd6f405eaeeff69c8662ff36",
              "IPY_MODEL_dd0906210bf14a868122ffe4043cea03",
              "IPY_MODEL_e016139c980d4988928f74da9f36c2d4"
            ],
            "layout": "IPY_MODEL_e52cd5035e0241478bd686175f871c1d"
          }
        },
        "82e2776fbd6f405eaeeff69c8662ff36": {
          "model_module": "@jupyter-widgets/controls",
          "model_name": "HTMLModel",
          "model_module_version": "1.5.0",
          "state": {
            "_dom_classes": [],
            "_model_module": "@jupyter-widgets/controls",
            "_model_module_version": "1.5.0",
            "_model_name": "HTMLModel",
            "_view_count": null,
            "_view_module": "@jupyter-widgets/controls",
            "_view_module_version": "1.5.0",
            "_view_name": "HTMLView",
            "description": "",
            "description_tooltip": null,
            "layout": "IPY_MODEL_a61ad51f17fa42258bb354839161c293",
            "placeholder": "​",
            "style": "IPY_MODEL_b54f7d4a1ec84b6f9d123b1468a3986c",
            "value": "Map: 100%"
          }
        },
        "dd0906210bf14a868122ffe4043cea03": {
          "model_module": "@jupyter-widgets/controls",
          "model_name": "FloatProgressModel",
          "model_module_version": "1.5.0",
          "state": {
            "_dom_classes": [],
            "_model_module": "@jupyter-widgets/controls",
            "_model_module_version": "1.5.0",
            "_model_name": "FloatProgressModel",
            "_view_count": null,
            "_view_module": "@jupyter-widgets/controls",
            "_view_module_version": "1.5.0",
            "_view_name": "ProgressView",
            "bar_style": "success",
            "description": "",
            "description_tooltip": null,
            "layout": "IPY_MODEL_a029c84d8e7c4bb3ae966b13b08ec38f",
            "max": 100,
            "min": 0,
            "orientation": "horizontal",
            "style": "IPY_MODEL_208b8ffddeac4e3d898c0f25b7b51e02",
            "value": 100
          }
        },
        "e016139c980d4988928f74da9f36c2d4": {
          "model_module": "@jupyter-widgets/controls",
          "model_name": "HTMLModel",
          "model_module_version": "1.5.0",
          "state": {
            "_dom_classes": [],
            "_model_module": "@jupyter-widgets/controls",
            "_model_module_version": "1.5.0",
            "_model_name": "HTMLModel",
            "_view_count": null,
            "_view_module": "@jupyter-widgets/controls",
            "_view_module_version": "1.5.0",
            "_view_name": "HTMLView",
            "description": "",
            "description_tooltip": null,
            "layout": "IPY_MODEL_766dfd0444ad4ddabc66f625e5ea936f",
            "placeholder": "​",
            "style": "IPY_MODEL_eb123c7c402e4bab92493d765cb5ab6b",
            "value": " 100/100 [00:00&lt;00:00, 1268.59 examples/s]"
          }
        },
        "e52cd5035e0241478bd686175f871c1d": {
          "model_module": "@jupyter-widgets/base",
          "model_name": "LayoutModel",
          "model_module_version": "1.2.0",
          "state": {
            "_model_module": "@jupyter-widgets/base",
            "_model_module_version": "1.2.0",
            "_model_name": "LayoutModel",
            "_view_count": null,
            "_view_module": "@jupyter-widgets/base",
            "_view_module_version": "1.2.0",
            "_view_name": "LayoutView",
            "align_content": null,
            "align_items": null,
            "align_self": null,
            "border": null,
            "bottom": null,
            "display": null,
            "flex": null,
            "flex_flow": null,
            "grid_area": null,
            "grid_auto_columns": null,
            "grid_auto_flow": null,
            "grid_auto_rows": null,
            "grid_column": null,
            "grid_gap": null,
            "grid_row": null,
            "grid_template_areas": null,
            "grid_template_columns": null,
            "grid_template_rows": null,
            "height": null,
            "justify_content": null,
            "justify_items": null,
            "left": null,
            "margin": null,
            "max_height": null,
            "max_width": null,
            "min_height": null,
            "min_width": null,
            "object_fit": null,
            "object_position": null,
            "order": null,
            "overflow": null,
            "overflow_x": null,
            "overflow_y": null,
            "padding": null,
            "right": null,
            "top": null,
            "visibility": null,
            "width": null
          }
        },
        "a61ad51f17fa42258bb354839161c293": {
          "model_module": "@jupyter-widgets/base",
          "model_name": "LayoutModel",
          "model_module_version": "1.2.0",
          "state": {
            "_model_module": "@jupyter-widgets/base",
            "_model_module_version": "1.2.0",
            "_model_name": "LayoutModel",
            "_view_count": null,
            "_view_module": "@jupyter-widgets/base",
            "_view_module_version": "1.2.0",
            "_view_name": "LayoutView",
            "align_content": null,
            "align_items": null,
            "align_self": null,
            "border": null,
            "bottom": null,
            "display": null,
            "flex": null,
            "flex_flow": null,
            "grid_area": null,
            "grid_auto_columns": null,
            "grid_auto_flow": null,
            "grid_auto_rows": null,
            "grid_column": null,
            "grid_gap": null,
            "grid_row": null,
            "grid_template_areas": null,
            "grid_template_columns": null,
            "grid_template_rows": null,
            "height": null,
            "justify_content": null,
            "justify_items": null,
            "left": null,
            "margin": null,
            "max_height": null,
            "max_width": null,
            "min_height": null,
            "min_width": null,
            "object_fit": null,
            "object_position": null,
            "order": null,
            "overflow": null,
            "overflow_x": null,
            "overflow_y": null,
            "padding": null,
            "right": null,
            "top": null,
            "visibility": null,
            "width": null
          }
        },
        "b54f7d4a1ec84b6f9d123b1468a3986c": {
          "model_module": "@jupyter-widgets/controls",
          "model_name": "DescriptionStyleModel",
          "model_module_version": "1.5.0",
          "state": {
            "_model_module": "@jupyter-widgets/controls",
            "_model_module_version": "1.5.0",
            "_model_name": "DescriptionStyleModel",
            "_view_count": null,
            "_view_module": "@jupyter-widgets/base",
            "_view_module_version": "1.2.0",
            "_view_name": "StyleView",
            "description_width": ""
          }
        },
        "a029c84d8e7c4bb3ae966b13b08ec38f": {
          "model_module": "@jupyter-widgets/base",
          "model_name": "LayoutModel",
          "model_module_version": "1.2.0",
          "state": {
            "_model_module": "@jupyter-widgets/base",
            "_model_module_version": "1.2.0",
            "_model_name": "LayoutModel",
            "_view_count": null,
            "_view_module": "@jupyter-widgets/base",
            "_view_module_version": "1.2.0",
            "_view_name": "LayoutView",
            "align_content": null,
            "align_items": null,
            "align_self": null,
            "border": null,
            "bottom": null,
            "display": null,
            "flex": null,
            "flex_flow": null,
            "grid_area": null,
            "grid_auto_columns": null,
            "grid_auto_flow": null,
            "grid_auto_rows": null,
            "grid_column": null,
            "grid_gap": null,
            "grid_row": null,
            "grid_template_areas": null,
            "grid_template_columns": null,
            "grid_template_rows": null,
            "height": null,
            "justify_content": null,
            "justify_items": null,
            "left": null,
            "margin": null,
            "max_height": null,
            "max_width": null,
            "min_height": null,
            "min_width": null,
            "object_fit": null,
            "object_position": null,
            "order": null,
            "overflow": null,
            "overflow_x": null,
            "overflow_y": null,
            "padding": null,
            "right": null,
            "top": null,
            "visibility": null,
            "width": null
          }
        },
        "208b8ffddeac4e3d898c0f25b7b51e02": {
          "model_module": "@jupyter-widgets/controls",
          "model_name": "ProgressStyleModel",
          "model_module_version": "1.5.0",
          "state": {
            "_model_module": "@jupyter-widgets/controls",
            "_model_module_version": "1.5.0",
            "_model_name": "ProgressStyleModel",
            "_view_count": null,
            "_view_module": "@jupyter-widgets/base",
            "_view_module_version": "1.2.0",
            "_view_name": "StyleView",
            "bar_color": null,
            "description_width": ""
          }
        },
        "766dfd0444ad4ddabc66f625e5ea936f": {
          "model_module": "@jupyter-widgets/base",
          "model_name": "LayoutModel",
          "model_module_version": "1.2.0",
          "state": {
            "_model_module": "@jupyter-widgets/base",
            "_model_module_version": "1.2.0",
            "_model_name": "LayoutModel",
            "_view_count": null,
            "_view_module": "@jupyter-widgets/base",
            "_view_module_version": "1.2.0",
            "_view_name": "LayoutView",
            "align_content": null,
            "align_items": null,
            "align_self": null,
            "border": null,
            "bottom": null,
            "display": null,
            "flex": null,
            "flex_flow": null,
            "grid_area": null,
            "grid_auto_columns": null,
            "grid_auto_flow": null,
            "grid_auto_rows": null,
            "grid_column": null,
            "grid_gap": null,
            "grid_row": null,
            "grid_template_areas": null,
            "grid_template_columns": null,
            "grid_template_rows": null,
            "height": null,
            "justify_content": null,
            "justify_items": null,
            "left": null,
            "margin": null,
            "max_height": null,
            "max_width": null,
            "min_height": null,
            "min_width": null,
            "object_fit": null,
            "object_position": null,
            "order": null,
            "overflow": null,
            "overflow_x": null,
            "overflow_y": null,
            "padding": null,
            "right": null,
            "top": null,
            "visibility": null,
            "width": null
          }
        },
        "eb123c7c402e4bab92493d765cb5ab6b": {
          "model_module": "@jupyter-widgets/controls",
          "model_name": "DescriptionStyleModel",
          "model_module_version": "1.5.0",
          "state": {
            "_model_module": "@jupyter-widgets/controls",
            "_model_module_version": "1.5.0",
            "_model_name": "DescriptionStyleModel",
            "_view_count": null,
            "_view_module": "@jupyter-widgets/base",
            "_view_module_version": "1.2.0",
            "_view_name": "StyleView",
            "description_width": ""
          }
        }
      }
    }
  },
  "cells": [
    {
      "cell_type": "code",
      "source": [
        "# @title Installation\n",
        "import re\n",
        "import torch; v = re.match(r\"[0-9\\.]{3,}\", str(torch.__version__)).group(0)\n",
        "xformers = \"xformers==\" + (\"0.0.32.post2\" if v == \"2.8.0\" else \"0.0.29.post3\")\n",
        "!pip install --no-deps bitsandbytes accelerate {xformers} peft trl triton cut_cross_entropy unsloth_zoo\n",
        "!pip install sentencepiece protobuf \"datasets>=3.4.1,<4.0.0\" \"huggingface_hub>=0.34.0\" hf_transfer\n",
        "!pip install --no-deps unsloth\n",
        "!pip install transformers==4.55.4\n",
        "!pip install --no-deps trl==0.22.2"
      ],
      "metadata": {
        "cellView": "form",
        "id": "B5XhnlNdQYCa"
      },
      "execution_count": null,
      "outputs": []
    },
    {
      "cell_type": "code",
      "source": [
        "# @title Import  libraries\n",
        "from unsloth import FastLanguageModel\n",
        "from datasets import load_dataset\n",
        "from transformers import TrainingArguments, Trainer, DataCollatorForLanguageModeling\n",
        "from unsloth import is_bfloat16_supported"
      ],
      "metadata": {
        "cellView": "form",
        "id": "HoSbTmmLWzkw"
      },
      "execution_count": 18,
      "outputs": []
    },
    {
      "cell_type": "code",
      "source": [
        "# @title Define Model  and tokenizer\n",
        "# Use the Gemma-2b-it model for instruction fine-tuning\n",
        "model_name = \"google/gemma-2b-it\"\n",
        "\n",
        "# Get the recommended maximum sequence length from Unsloth\n",
        "max_seq_length = 512\n",
        "\n",
        "# Get model and tokenizer\n",
        "model, tokenizer = FastLanguageModel.from_pretrained(\n",
        "    model_name=model_name,\n",
        "    max_seq_length=max_seq_length,\n",
        "    dtype=None,\n",
        "    load_in_4bit=True,\n",
        ")\n"
      ],
      "metadata": {
        "cellView": "form",
        "id": "FFxhz7phW1au"
      },
      "execution_count": null,
      "outputs": []
    },
    {
      "cell_type": "code",
      "source": [
        "# @title Call LoRA Adapter\n",
        "# --- FIX: Manually set the chat template for the tokenizer ---\n",
        "# The Gemma model uses the ChatML format.\n",
        "# Unsloth doesn't automatically add this for the standard Trainer workflow.\n",
        "tokenizer.chat_template = \"{% for message in messages %}{% if message['role'] == 'user' %}{{ '[USER]' + message['content'] + '[END_USER]' }}{% elif message['role'] == 'assistant' %}{{ '[ASSISTANT]'  + message['content'] + '[END_ASSISTANT]' }}{% endif %}{% endfor %}{% if add_generation_prompt %}{{ '[ASSISTANT]' }}{% endif %}\"\n",
        "# --- End of fix ---\n",
        "\n",
        "# Apply LoRA adapters\n",
        "model = FastLanguageModel.get_peft_model(\n",
        "    model,\n",
        "    r=16,\n",
        "    target_modules=[\n",
        "        \"q_proj\", \"k_proj\", \"v_proj\", \"o_proj\",\n",
        "        \"gate_proj\", \"up_proj\", \"down_proj\",\n",
        "    ],\n",
        "    lora_alpha=16,\n",
        "    lora_dropout=0,\n",
        "    bias=\"none\",\n",
        "    use_gradient_checkpointing=True,\n",
        ")"
      ],
      "metadata": {
        "cellView": "form",
        "id": "Gp1YP3GoW7p0"
      },
      "execution_count": 20,
      "outputs": []
    },
    {
      "cell_type": "code",
      "source": [
        "# @title Load  dataset and Define formating function\n",
        "# Load the Dolly dataset\n",
        "# On reall Finetune remember to remove the the capping of 100 data\n",
        "dataset = load_dataset(\"databricks/databricks-dolly-15k\", split=\"train[:100]\")\n",
        "\n",
        "\n",
        "# Define a function to format and tokenize it\n",
        "def format_and_tokenize(examples):\n",
        "    formatted_texts = []\n",
        "    for instruction, output in zip(examples[\"instruction\"], examples[\"response\"]):\n",
        "        # Use the tokenizer's chat template for correct formatting\n",
        "        chat_template = tokenizer.apply_chat_template([\n",
        "            {\"role\": \"user\", \"content\": instruction},\n",
        "            {\"role\": \"assistant\", \"content\": output},\n",
        "        ], tokenize=False, add_generation_prompt=False)\n",
        "        formatted_texts.append(chat_template)\n",
        "\n",
        "    # Tokenize the formatted text with padding and truncation\n",
        "    return tokenizer(\n",
        "        formatted_texts,\n",
        "        padding=\"max_length\",\n",
        "        truncation=True,\n",
        "        max_length=max_seq_length,\n",
        "    )\n",
        "\n",
        "# Map the dataset to format and tokenize the conversations\n",
        "tokenized_dataset = dataset.map(\n",
        "    format_and_tokenize,\n",
        "    batched=True,\n",
        "    remove_columns=[\"instruction\", \"context\", \"response\", \"category\"]\n",
        ")\n",
        "\n",
        "# A data collator is needed to handle padding and create labels\n",
        "# Note: For Causal Language Modeling, labels are handled by shifting the input_ids\n",
        "data_collator = DataCollatorForLanguageModeling(tokenizer=tokenizer, mlm=False)\n"
      ],
      "metadata": {
        "colab": {
          "base_uri": "https://localhost:8080/",
          "height": 49,
          "referenced_widgets": [
            "b1781172ae3a4b5491bd436ca0887e13",
            "82e2776fbd6f405eaeeff69c8662ff36",
            "dd0906210bf14a868122ffe4043cea03",
            "e016139c980d4988928f74da9f36c2d4",
            "e52cd5035e0241478bd686175f871c1d",
            "a61ad51f17fa42258bb354839161c293",
            "b54f7d4a1ec84b6f9d123b1468a3986c",
            "a029c84d8e7c4bb3ae966b13b08ec38f",
            "208b8ffddeac4e3d898c0f25b7b51e02",
            "766dfd0444ad4ddabc66f625e5ea936f",
            "eb123c7c402e4bab92493d765cb5ab6b"
          ]
        },
        "cellView": "form",
        "id": "XypT1srbXAzP",
        "outputId": "b1e38156-f94e-4536-adf1-54c9722edf8d"
      },
      "execution_count": 66,
      "outputs": [
        {
          "output_type": "display_data",
          "data": {
            "text/plain": [
              "Map:   0%|          | 0/100 [00:00<?, ? examples/s]"
            ],
            "application/vnd.jupyter.widget-view+json": {
              "version_major": 2,
              "version_minor": 0,
              "model_id": "b1781172ae3a4b5491bd436ca0887e13"
            }
          },
          "metadata": {}
        }
      ]
    },
    {
      "cell_type": "code",
      "source": [
        "# @title Check the data formated\n",
        "sample = tokenized_dataset[0]\n",
        "print(tokenizer.decode(sample[\"input_ids\"]))"
      ],
      "metadata": {
        "cellView": "form",
        "id": "NgW-Vt7Kj-Rt"
      },
      "execution_count": null,
      "outputs": []
    },
    {
      "cell_type": "code",
      "source": [
        "# @title Training args and Traner\n",
        "# Define training arguments\n",
        "training_args = TrainingArguments(\n",
        "    per_device_train_batch_size=4,\n",
        "    gradient_accumulation_steps=4,\n",
        "    warmup_steps=10,\n",
        "    num_train_epochs=1, # 3 for serious training\n",
        "    learning_rate=2e-4,\n",
        "    fp16=not is_bfloat16_supported(),\n",
        "    bf16=is_bfloat16_supported(),\n",
        "    logging_steps=1,\n",
        "    optim=\"adamw_8bit\",\n",
        "    weight_decay=0.01,\n",
        "    lr_scheduler_type=\"linear\",\n",
        "    seed=3407,\n",
        "    output_dir=\"outputs\",\n",
        "    report_to=\"none\",\n",
        ")\n",
        "\n",
        "# Initialize the Trainer\n",
        "trainer = Trainer(\n",
        "    model=model,\n",
        "    tokenizer=tokenizer,\n",
        "    train_dataset=tokenized_dataset,\n",
        "    data_collator=data_collator,\n",
        "    args=training_args,\n",
        ")\n"
      ],
      "metadata": {
        "cellView": "form",
        "id": "PYzKXHyvTEqU"
      },
      "execution_count": null,
      "outputs": []
    },
    {
      "cell_type": "code",
      "source": [
        "# @title Start Training\n",
        "trainer.train()"
      ],
      "metadata": {
        "cellView": "form",
        "id": "7Jc_SV_mTGOh"
      },
      "execution_count": null,
      "outputs": []
    },
    {
      "cell_type": "code",
      "source": [
        "# @title Test\n",
        "from unsloth import FastLanguageModel\n",
        "model = FastLanguageModel.for_inference(model)\n",
        "message =[\n",
        "  {\n",
        "      \"role\": \"user\",\n",
        "      \"content\": \"continue the fibonacci sequesnce! Your input is 1, 1, 2, 3, 5, 8,\",\n",
        "  }\n",
        "]\n",
        "\n",
        "\n",
        "# Apply chat template first to get the formatted text\n",
        "formatted_text = tokenizer.apply_chat_template(\n",
        "    message,\n",
        "    add_generation_prompt=True,\n",
        "    tokenize=False  # Get text instead of tokens\n",
        ")\n",
        "\n",
        "# Then tokenize with attention mask\n",
        "inputs = tokenizer(\n",
        "    formatted_text,\n",
        "    return_tensors=\"pt\",\n",
        "    return_attention_mask=True\n",
        ").to(\"cuda\")\n",
        "\n",
        "# Generate using the inputs dict\n",
        "_ = model.generate(\n",
        "    input_ids=inputs[\"input_ids\"],\n",
        "    attention_mask=inputs[\"attention_mask\"],\n",
        "    streamer=text_streamer,\n",
        "    max_new_tokens=100,\n",
        "    pad_token_id=tokenizer.eos_token_id\n",
        ")\n"
      ],
      "metadata": {
        "cellView": "form",
        "id": "9QFciRQGbtDH"
      },
      "execution_count": null,
      "outputs": []
    }
  ]
}